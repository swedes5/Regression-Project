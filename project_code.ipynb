{
 "cells": [
  {
   "cell_type": "code",
   "execution_count": null,
   "id": "d4cec192-f408-4294-99fe-6fd0e5981344",
   "metadata": {},
   "outputs": [],
   "source": [
    "import requests, bs4\n",
    "from bs4 import BeautifulSoup as bs\n",
    "import pandas as pd\n"
   ]
  },
  {
   "cell_type": "code",
   "execution_count": 13,
   "id": "695ff026-13a2-4a19-92ba-c3f2827e209f",
   "metadata": {},
   "outputs": [],
   "source": [
    "nums = ['100', '200', '300', '400', '500', '600', '700', '800', '900']\n",
    "#urls = url__link_test_list \n",
    "urls = []\n",
    "for i in nums:\n",
    "    general_url = ('https://www.kbb.com/cars-for-sale/all/truck/santa-ana-ca-92705/?searchByDma=false&relevanceConfig=default&dma=&searchRadius=10&location=&marketExtension=off&isNewSearch=false&showAccelerateBanner=false&sortBy=derivedpriceASC&numRecords=100&firstRecord=' + i)\n",
    "    page = requests.get(general_url).text\n",
    "    soup = bs(page)\n",
    "    for general_url in soup.find_all(class_=\"inventory-listing cursor-pointer panel panel-default\"):\n",
    "        general_url_link = general_url.find('a')['href']\n",
    "        urls.append(general_url_link)\n",
    "        \n",
    "        \n"
   ]
  },
  {
   "cell_type": "code",
   "execution_count": 14,
   "id": "38d12e28-6639-4bdb-8264-13ec22d8ad42",
   "metadata": {},
   "outputs": [],
   "source": [
    "nums = ['100', '200', '300', '400', '500', '600', '700', '800']\n",
    "#urls = url__link_test_list \n",
    "for i in nums:\n",
    "    general_url = ('https://www.kbb.com/cars-for-sale/all/truck/santa-ana-ca-92705/?searchByDma=false&relevanceConfig=default&dma=&searchRadius=10&location=&marketExtension=off&isNewSearch=false&showAccelerateBanner=false&sortBy=derivedpriceDESC&numRecords=100&firstRecord=' + i)\n",
    "    page = requests.get(general_url).text\n",
    "    soup = bs(page)\n",
    "    for general_url in soup.find_all(class_=\"inventory-listing cursor-pointer panel panel-default\"):\n",
    "        general_url_link = general_url.find('a')['href']\n",
    "        urls.append(general_url_link)\n",
    "        \n",
    "        \n"
   ]
  },
  {
   "cell_type": "code",
   "execution_count": 18,
   "id": "03d1328d-d627-496f-86ac-976860bdf652",
   "metadata": {},
   "outputs": [
    {
     "data": {
      "text/plain": [
       "1700"
      ]
     },
     "execution_count": 18,
     "metadata": {},
     "output_type": "execute_result"
    }
   ],
   "source": [
    "len(urls)"
   ]
  },
  {
   "cell_type": "code",
   "execution_count": 20,
   "id": "cfd5c344-c69e-4c30-b111-8d8e65074d4a",
   "metadata": {},
   "outputs": [],
   "source": [
    "#testing html to find more features\n",
    "links = 'https://kbb.com'+urls[1]\n",
    "individual_page = requests.get(links).text\n",
    "individual_soup = bs(individual_page)"
   ]
  },
  {
   "cell_type": "code",
   "execution_count": null,
   "id": "83470f9b-9121-46ae-bd39-d8f52175a636",
   "metadata": {},
   "outputs": [],
   "source": []
  },
  {
   "cell_type": "code",
   "execution_count": 32,
   "id": "3714ce2f-a664-4451-8b08-fd3077e3904e",
   "metadata": {},
   "outputs": [
    {
     "name": "stdout",
     "output_type": "stream",
     "text": [
      "Chevrolet\n"
     ]
    }
   ],
   "source": [
    "#print(individual_soup.find('h1').text.split()[0])\n",
    "#year = 2022 - int(individual_soup.find('h1').text.split()[1])\n",
    "print(individual_soup.find('h1').text.split()[2])\n",
    "#print(year)"
   ]
  },
  {
   "cell_type": "code",
   "execution_count": null,
   "id": "e9e44b2a-df05-4d7b-a146-cde4339be5d7",
   "metadata": {},
   "outputs": [],
   "source": [
    "#code scaled to first 1000 trucks\n",
    "\n",
    "import requests, bs4\n",
    "from bs4 import BeautifulSoup as bs\n",
    "import pandas as pd\n",
    "\n",
    "\n",
    "\n",
    "\n",
    "\n",
    "\n",
    "#base_url = ('https://www.kbb.com/cars-for-sale/all/truck/santa-ana-ca-92705/?searchByDma=false&relevanceConfig=default&dma=&searchRadius=10' +\n",
    "#            '&location=&marketExtension=off&isNewSearch=false&showAccelerateBanner=false&sortBy=derivedpriceASC&numRecords=100')\n",
    "#page = requests.get(base_url).text\n",
    "#soup = bs(page)\n",
    "#url__link_test_list = []\n",
    "\n",
    "#for url in soup.find_all(class_=\"inventory-listing cursor-pointer panel panel-default\"):\n",
    " #   url_link = url.find('a')['href']\n",
    "  #  url__link_test_list.append(url_link)\n",
    "\n",
    "#url__link_test_list\n",
    "\n",
    "\n",
    "######################################################################################################\n",
    "mvp_car_dict_list = []\n",
    "\n",
    "for i in range(0,1700):\n",
    "    try:\n",
    "        links = 'https://kbb.com'+urls[i]\n",
    "        individual_page = requests.get(links).text\n",
    "        individual_soup = bs(individual_page)\n",
    "        individual_data = []\n",
    "\n",
    "\n",
    "        car1_info = []\n",
    "        car1_dict_list = []\n",
    "\n",
    "        for item in individual_soup.find_all(class_=\"list-bordered list-condensed\"):\n",
    "        #thing1 = item.find('aria-label')\n",
    "            thing2 = item.find(class_ = 'col-xs-10 margin-bottom-0').text\n",
    "            car1_info.append(thing2)\n",
    "            \n",
    "        #print(thing2)\n",
    "    \n",
    "        car1_info\n",
    "        \n",
    "        #mvp_car_dict_list = []\n",
    "\n",
    "        mileage = car1_info[0].split()[0]\n",
    "        ext_color = car1_info[1]\n",
    "        int_color = car1_info[2]\n",
    "        engine_size = car1_info[3].split()[0]\n",
    "        num_of_cylinders = car1_info[3].split()[1].split('-')[0]\n",
    "        trans_type = ''\n",
    "        price1 = individual_soup.find(class_ = 'first-price').text\n",
    "        condition = individual_soup.find('h1').text.split()[0] #new or used\n",
    "        years_old = 2022 - int(individual_soup.find('h1').text.split()[1])\n",
    "        make = individual_soup.find('h1').text.split()[2]\n",
    "\n",
    "        \n",
    "        if 'Automatic' in car1_info[4]:\n",
    "            trans_type = 'Automatic'\n",
    "        else:\n",
    "            trans_type = 'Manual'\n",
    "        awd = ''\n",
    "        if '2' in car1_info[5]:\n",
    "            awd = 'no'\n",
    "        elif 'two' in car1_info[5]:\n",
    "            awd = 'no'\n",
    "        elif 'Two' in car1_info[5]:\n",
    "            awd = 'no'\n",
    "        else:\n",
    "            awd = 'yes'\n",
    "        mvp_car_dict_list.append({'mileage': mileage, 'ext_color': ext_color, 'int_color': int_color, 'engine_size': engine_size, 'cylinders': num_of_cylinders, 'transmission': trans_type, 'awd': awd, 'price': price1, 'make': make, 'age': years_old, 'condition': condition})\n",
    "\n",
    "        mvp_car_dict_list\n",
    "    except:\n",
    "        print('error at ' +str(i))"
   ]
  },
  {
   "cell_type": "code",
   "execution_count": 37,
   "id": "934ae5b3-76b4-4e6a-ab46-d2869b1cc9b5",
   "metadata": {},
   "outputs": [
    {
     "data": {
      "text/plain": [
       "1268"
      ]
     },
     "execution_count": 37,
     "metadata": {},
     "output_type": "execute_result"
    }
   ],
   "source": [
    "len(mvp_car_dict_list)"
   ]
  },
  {
   "cell_type": "code",
   "execution_count": 38,
   "id": "8cbfc265-b631-4b8a-a9d9-ea6727fc027c",
   "metadata": {},
   "outputs": [
    {
     "data": {
      "text/html": [
       "<div>\n",
       "<style scoped>\n",
       "    .dataframe tbody tr th:only-of-type {\n",
       "        vertical-align: middle;\n",
       "    }\n",
       "\n",
       "    .dataframe tbody tr th {\n",
       "        vertical-align: top;\n",
       "    }\n",
       "\n",
       "    .dataframe thead th {\n",
       "        text-align: right;\n",
       "    }\n",
       "</style>\n",
       "<table border=\"1\" class=\"dataframe\">\n",
       "  <thead>\n",
       "    <tr style=\"text-align: right;\">\n",
       "      <th></th>\n",
       "      <th>mileage</th>\n",
       "      <th>ext_color</th>\n",
       "      <th>int_color</th>\n",
       "      <th>engine_size</th>\n",
       "      <th>cylinders</th>\n",
       "      <th>transmission</th>\n",
       "      <th>awd</th>\n",
       "      <th>price</th>\n",
       "      <th>make</th>\n",
       "      <th>age</th>\n",
       "      <th>condition</th>\n",
       "    </tr>\n",
       "  </thead>\n",
       "  <tbody>\n",
       "    <tr>\n",
       "      <th>0</th>\n",
       "      <td>105,410</td>\n",
       "      <td>White Exterior</td>\n",
       "      <td>Gray Interior</td>\n",
       "      <td>5.7L</td>\n",
       "      <td>8</td>\n",
       "      <td>Automatic</td>\n",
       "      <td>no</td>\n",
       "      <td>18,588</td>\n",
       "      <td>RAM</td>\n",
       "      <td>8</td>\n",
       "      <td>Used</td>\n",
       "    </tr>\n",
       "    <tr>\n",
       "      <th>1</th>\n",
       "      <td>115,000</td>\n",
       "      <td>Summit White Exterior</td>\n",
       "      <td>Ebony Leather Seats</td>\n",
       "      <td>5.3L</td>\n",
       "      <td>8</td>\n",
       "      <td>Automatic</td>\n",
       "      <td>no</td>\n",
       "      <td>18,788</td>\n",
       "      <td>Chevrolet</td>\n",
       "      <td>11</td>\n",
       "      <td>Used</td>\n",
       "    </tr>\n",
       "    <tr>\n",
       "      <th>2</th>\n",
       "      <td>147,134</td>\n",
       "      <td>Silver Exterior</td>\n",
       "      <td>4.0L 6-Cylinder Gas Engine</td>\n",
       "      <td>5-Speed</td>\n",
       "      <td>Automatic</td>\n",
       "      <td>Manual</td>\n",
       "      <td>no</td>\n",
       "      <td>18,950</td>\n",
       "      <td>Toyota</td>\n",
       "      <td>10</td>\n",
       "      <td>Used</td>\n",
       "    </tr>\n",
       "    <tr>\n",
       "      <th>3</th>\n",
       "      <td>128,976</td>\n",
       "      <td>Slate Metallic Exterior</td>\n",
       "      <td>Graphite Interior</td>\n",
       "      <td>5.7L</td>\n",
       "      <td>8</td>\n",
       "      <td>Automatic</td>\n",
       "      <td>no</td>\n",
       "      <td>18,990</td>\n",
       "      <td>Toyota</td>\n",
       "      <td>14</td>\n",
       "      <td>Used</td>\n",
       "    </tr>\n",
       "    <tr>\n",
       "      <th>4</th>\n",
       "      <td>88,150</td>\n",
       "      <td>Silver Exterior</td>\n",
       "      <td>Grey Interior</td>\n",
       "      <td>3.4L</td>\n",
       "      <td>6</td>\n",
       "      <td>Automatic</td>\n",
       "      <td>no</td>\n",
       "      <td>18,995</td>\n",
       "      <td>Toyota</td>\n",
       "      <td>20</td>\n",
       "      <td>Used</td>\n",
       "    </tr>\n",
       "    <tr>\n",
       "      <th>...</th>\n",
       "      <td>...</td>\n",
       "      <td>...</td>\n",
       "      <td>...</td>\n",
       "      <td>...</td>\n",
       "      <td>...</td>\n",
       "      <td>...</td>\n",
       "      <td>...</td>\n",
       "      <td>...</td>\n",
       "      <td>...</td>\n",
       "      <td>...</td>\n",
       "      <td>...</td>\n",
       "    </tr>\n",
       "    <tr>\n",
       "      <th>1263</th>\n",
       "      <td>13,157</td>\n",
       "      <td>Barcelona Red Metallic Exterior</td>\n",
       "      <td>Black Interior</td>\n",
       "      <td>3.5L</td>\n",
       "      <td>6</td>\n",
       "      <td>Automatic</td>\n",
       "      <td>no</td>\n",
       "      <td>43,641</td>\n",
       "      <td>Toyota</td>\n",
       "      <td>2</td>\n",
       "      <td>Used</td>\n",
       "    </tr>\n",
       "    <tr>\n",
       "      <th>1264</th>\n",
       "      <td>68,078</td>\n",
       "      <td>Magnetic Metallic Exterior</td>\n",
       "      <td>Medium Earth Gray Interior</td>\n",
       "      <td>3.5L</td>\n",
       "      <td>6</td>\n",
       "      <td>Automatic</td>\n",
       "      <td>yes</td>\n",
       "      <td>43,599</td>\n",
       "      <td>Ford</td>\n",
       "      <td>2</td>\n",
       "      <td>Used</td>\n",
       "    </tr>\n",
       "    <tr>\n",
       "      <th>1265</th>\n",
       "      <td>49,850</td>\n",
       "      <td>Silver Ice Metallic Exterior</td>\n",
       "      <td>Black Interior</td>\n",
       "      <td>5.3L</td>\n",
       "      <td>8</td>\n",
       "      <td>Automatic</td>\n",
       "      <td>no</td>\n",
       "      <td>43,549</td>\n",
       "      <td>Chevrolet</td>\n",
       "      <td>3</td>\n",
       "      <td>Used</td>\n",
       "    </tr>\n",
       "    <tr>\n",
       "      <th>1266</th>\n",
       "      <td>25,856</td>\n",
       "      <td>Super White Exterior</td>\n",
       "      <td>Cement Interior</td>\n",
       "      <td>3.5L</td>\n",
       "      <td>6</td>\n",
       "      <td>Automatic</td>\n",
       "      <td>yes</td>\n",
       "      <td>43,494</td>\n",
       "      <td>Toyota</td>\n",
       "      <td>2</td>\n",
       "      <td>Used</td>\n",
       "    </tr>\n",
       "    <tr>\n",
       "      <th>1267</th>\n",
       "      <td>31,335</td>\n",
       "      <td>Black Exterior</td>\n",
       "      <td>Jet Black Leather Seats</td>\n",
       "      <td>5.3L</td>\n",
       "      <td>8</td>\n",
       "      <td>Automatic</td>\n",
       "      <td>no</td>\n",
       "      <td>43,289</td>\n",
       "      <td>Chevrolet</td>\n",
       "      <td>3</td>\n",
       "      <td>Certified</td>\n",
       "    </tr>\n",
       "  </tbody>\n",
       "</table>\n",
       "<p>1268 rows × 11 columns</p>\n",
       "</div>"
      ],
      "text/plain": [
       "      mileage                        ext_color                   int_color  \\\n",
       "0     105,410                   White Exterior               Gray Interior   \n",
       "1     115,000            Summit White Exterior         Ebony Leather Seats   \n",
       "2     147,134                  Silver Exterior  4.0L 6-Cylinder Gas Engine   \n",
       "3     128,976          Slate Metallic Exterior           Graphite Interior   \n",
       "4      88,150                  Silver Exterior               Grey Interior   \n",
       "...       ...                              ...                         ...   \n",
       "1263   13,157  Barcelona Red Metallic Exterior              Black Interior   \n",
       "1264   68,078       Magnetic Metallic Exterior  Medium Earth Gray Interior   \n",
       "1265   49,850     Silver Ice Metallic Exterior              Black Interior   \n",
       "1266   25,856             Super White Exterior             Cement Interior   \n",
       "1267   31,335                   Black Exterior     Jet Black Leather Seats   \n",
       "\n",
       "     engine_size  cylinders transmission  awd   price       make  age  \\\n",
       "0           5.7L          8    Automatic   no  18,588        RAM    8   \n",
       "1           5.3L          8    Automatic   no  18,788  Chevrolet   11   \n",
       "2        5-Speed  Automatic       Manual   no  18,950     Toyota   10   \n",
       "3           5.7L          8    Automatic   no  18,990     Toyota   14   \n",
       "4           3.4L          6    Automatic   no  18,995     Toyota   20   \n",
       "...          ...        ...          ...  ...     ...        ...  ...   \n",
       "1263        3.5L          6    Automatic   no  43,641     Toyota    2   \n",
       "1264        3.5L          6    Automatic  yes  43,599       Ford    2   \n",
       "1265        5.3L          8    Automatic   no  43,549  Chevrolet    3   \n",
       "1266        3.5L          6    Automatic  yes  43,494     Toyota    2   \n",
       "1267        5.3L          8    Automatic   no  43,289  Chevrolet    3   \n",
       "\n",
       "      condition  \n",
       "0          Used  \n",
       "1          Used  \n",
       "2          Used  \n",
       "3          Used  \n",
       "4          Used  \n",
       "...         ...  \n",
       "1263       Used  \n",
       "1264       Used  \n",
       "1265       Used  \n",
       "1266       Used  \n",
       "1267  Certified  \n",
       "\n",
       "[1268 rows x 11 columns]"
      ]
     },
     "execution_count": 38,
     "metadata": {},
     "output_type": "execute_result"
    }
   ],
   "source": [
    "big_df = pd.DataFrame(mvp_car_dict_list)\n",
    "big_df"
   ]
  },
  {
   "cell_type": "code",
   "execution_count": null,
   "id": "3e26dc34-0f89-43b9-b31b-d687c45d7db5",
   "metadata": {},
   "outputs": [],
   "source": [
    "big_df = big_df.loc[((big_df['cylinders'] == '4') | (big_df['cylinders'] == '6') | (big_df['cylinders'] == '8'))]\n",
    "big_df"
   ]
  },
  {
   "cell_type": "code",
   "execution_count": 46,
   "id": "5bf68921-a1c0-4016-9a61-d414834cacc7",
   "metadata": {},
   "outputs": [
    {
     "data": {
      "text/plain": [
       "array(['Used', 'Certified', 'New'], dtype=object)"
      ]
     },
     "execution_count": 46,
     "metadata": {},
     "output_type": "execute_result"
    }
   ],
   "source": [
    "big_df['condition'].unique()  #all columns that have categorical values look clean"
   ]
  },
  {
   "cell_type": "code",
   "execution_count": null,
   "id": "d19b2258-6531-4226-91ff-82a359e34810",
   "metadata": {},
   "outputs": [],
   "source": [
    "big_df = big_df.replace(',','', regex=True) #cleaning numeric columns to prepare them\n",
    "big_df"
   ]
  },
  {
   "cell_type": "code",
   "execution_count": 54,
   "id": "2bde73ad-7b9d-4166-bc62-2d99c5286c3b",
   "metadata": {},
   "outputs": [],
   "source": [
    "big_df['price'] = big_df['price'].replace('MSRP', '', regex=True) #some values had MSRP in the price"
   ]
  },
  {
   "cell_type": "code",
   "execution_count": 55,
   "id": "a504224f-fc24-4f1a-a7d2-c99784b7dfc4",
   "metadata": {},
   "outputs": [],
   "source": [
    "big_df['engine_size'] = big_df['engine_size'].replace('L', '', regex=True)\n",
    "big_df['price'] = big_df['price'].astype(int)\n",
    "big_df['mileage'] = big_df['mileage'].astype(int)\n",
    "big_df['engine_size'] = big_df['engine_size'].astype(float)\n",
    "big_df['cylinders'] = big_df['cylinders'].astype(int)"
   ]
  },
  {
   "cell_type": "code",
   "execution_count": null,
   "id": "4c1f06c4-1c0d-4e18-8ac0-439c9adf2b09",
   "metadata": {},
   "outputs": [],
   "source": [
    "big_df.dtypes #checking data types of the df"
   ]
  },
  {
   "cell_type": "code",
   "execution_count": 57,
   "id": "1e6524de-74b9-433c-aa71-4761993c2139",
   "metadata": {},
   "outputs": [
    {
     "data": {
      "text/plain": [
       "Summit White Exterior              134\n",
       "Black Exterior                      99\n",
       "Bright White Clearcoat Exterior     79\n",
       "White Exterior                      47\n",
       "Oxford White Exterior               47\n",
       "                                  ... \n",
       "\"Black\" Exterior                     1\n",
       "Lunar Rock Exterior                  1\n",
       "Grey Exterior                        1\n",
       "Fairway Metallic Exterior            1\n",
       "Cactus Gray Exterior                 1\n",
       "Name: ext_color, Length: 160, dtype: int64"
      ]
     },
     "execution_count": 57,
     "metadata": {},
     "output_type": "execute_result"
    }
   ],
   "source": [
    "paint_count = big_df['ext_color'].value_counts()\n",
    "paint_count"
   ]
  },
  {
   "cell_type": "code",
   "execution_count": 58,
   "id": "a0641bd8-0f1b-426a-85b6-efae49b84934",
   "metadata": {},
   "outputs": [],
   "source": [
    "#filtering some of the colors\n",
    "\n",
    "big_df['ext_color'] = big_df['ext_color'].replace('Magnetic Gray Metallic Exterior','Gray Exterior', regex=True)\n",
    "big_df['ext_color'] = big_df['ext_color'].replace('Dark Shadow Gray Metallic Exterior','Gray Exterior', regex=True)\n",
    "big_df['ext_color'] = big_df['ext_color'].replace('Charcoal Exterior','Gray Exterior', regex=True)\n",
    "big_df['ext_color'] = big_df['ext_color'].replace('Stealth Gray Metallic Exterior','Gray Exterior', regex=True)\n",
    "big_df['ext_color'] = big_df['ext_color'].replace('Oxford White Exterior','White Exterior', regex=True)\n",
    "big_df['ext_color'] = big_df['ext_color'].replace('Super White Exterior','White Exterior', regex=True)\n",
    "big_df['ext_color'] = big_df['ext_color'].replace('Summit White Exterior','White Exterior', regex=True)\n",
    "big_df['ext_color'] = big_df['ext_color'].replace('Glacier White Exterior','White Exterior', regex=True)\n",
    "big_df['ext_color'] = big_df['ext_color'].replace('Oxford White (Cc) Exterior','White Exterior', regex=True)\n",
    "big_df['ext_color'] = big_df['ext_color'].replace('Taffeta White Exterior','White Exterior', regex=True)\n",
    "big_df['ext_color'] = big_df['ext_color'].replace('White Diamond Tricoat Exterior','White Exterior', regex=True)\n",
    "big_df['ext_color'] = big_df['ext_color'].replace('Super Black Exterior','Black Exterior', regex=True)\n",
    "big_df['ext_color'] = big_df['ext_color'].replace('Spruce Mica Exterior','Green Exterior', regex=True)\n",
    "big_df['ext_color'] = big_df['ext_color'].replace('Grern Exterior','Green Exterior', regex=True)\n",
    "big_df['ext_color'] = big_df['ext_color'].replace('Bright Red Exterior','Red Exterior', regex=True)\n",
    "big_df['ext_color'] = big_df['ext_color'].replace('Toreador Red Metallic Exterior','Red Exterior', regex=True)\n",
    "big_df['ext_color'] = big_df['ext_color'].replace('Mystic Gold Metallic Exterior','Gold Exterior', regex=True)\n",
    "big_df['ext_color'] = big_df['ext_color'].replace('Atlantic Blue Pearl Exterior','Blue Exterior', regex=True)\n",
    "big_df['ext_color'] = big_df['ext_color'].replace('Brilliant Silver Exterior','Silver Exterior', regex=True)\n",
    "big_df['ext_color'] = big_df['ext_color'].replace('Radiant Silver Metallic Exterior','Silver Exterior', regex=True)\n",
    "big_df['ext_color'] = big_df['ext_color'].replace('Bright Silver Metallic Clear Coat Exterior','Silver Exterior', regex=True)\n",
    "big_df['ext_color'] = big_df['ext_color'].replace('Avalanche Exterior','White Exterior', regex=True)\n",
    "big_df['ext_color'] = big_df['ext_color'].replace('Desert Sand Mica Exterior','Beige Exterior', regex=True)\n"
   ]
  },
  {
   "cell_type": "code",
   "execution_count": 61,
   "id": "60823df0-375e-422d-b684-92312baf49ba",
   "metadata": {},
   "outputs": [
    {
     "data": {
      "text/plain": [
       "other                                          468\n",
       "White Exterior                                 294\n",
       "Black Exterior                                 103\n",
       "Bright White Clearcoat Exterior                 79\n",
       "Gray Exterior                                   68\n",
       "Diamond Black Crystal Pearlcoat Exterior        38\n",
       "Granite Crystal Metallic Clearcoat Exterior     37\n",
       "Satin Steel Metallic Exterior                   35\n",
       "Silver Ice Metallic Exterior                    27\n",
       "Silver Exterior                                 23\n",
       "Onyx Black Exterior                             23\n",
       "Billet Silver Metallic Clearcoat Exterior       21\n",
       "Name: ext_color, dtype: int64"
      ]
     },
     "execution_count": 61,
     "metadata": {},
     "output_type": "execute_result"
    }
   ],
   "source": [
    "paint_count = big_df['ext_color'].value_counts()\n",
    "paint_count"
   ]
  },
  {
   "cell_type": "code",
   "execution_count": 60,
   "id": "fea3639d-070f-458f-a994-e050c5de16cf",
   "metadata": {},
   "outputs": [],
   "source": [
    "#bucketing the rest\n",
    "other_colors = list(paint_count[paint_count <= 20].index)\n",
    "big_df['ext_color'] = big_df['ext_color'].replace(other_colors, 'other')\n"
   ]
  },
  {
   "cell_type": "code",
   "execution_count": 71,
   "id": "67dbf0e0-1378-4626-8266-0cb5239a4af2",
   "metadata": {},
   "outputs": [
    {
     "data": {
      "text/plain": [
       "Black Interior    784\n",
       "other             250\n",
       "Gray Interior     182\n",
       "Name: int_color, dtype: int64"
      ]
     },
     "execution_count": 71,
     "metadata": {},
     "output_type": "execute_result"
    }
   ],
   "source": [
    "interior_count = big_df['int_color'].value_counts()\n",
    "interior_count"
   ]
  },
  {
   "cell_type": "code",
   "execution_count": 64,
   "id": "63e2aa8b-f4af-4109-b2c7-d6f6b00ca123",
   "metadata": {},
   "outputs": [],
   "source": [
    "#bucketing interiors\n",
    "other_int_colors = list(interior_count[interior_count <=20].index)\n",
    "big_df['int_color'] = big_df['int_color'].replace(other_int_colors, 'other')\n"
   ]
  },
  {
   "cell_type": "code",
   "execution_count": 70,
   "id": "73a68ae1-c25b-41a1-b473-012236645593",
   "metadata": {},
   "outputs": [],
   "source": [
    "#filtering some of the rest by hand\n",
    "big_df['int_color'] = big_df['int_color'].replace('Steel Interior','Gray Interior', regex=True)\n",
    "big_df['int_color'] = big_df['int_color'].replace('Graphite Interior','Gray Interior', regex=True)\n",
    "big_df['int_color'] = big_df['int_color'].replace('Cement Interior','Gray Interior', regex=True)\n",
    "big_df['int_color'] = big_df['int_color'].replace('Cement Gray Interior','Gray Interior', regex=True)\n",
    "big_df['int_color'] = big_df['int_color'].replace('Medium Earth Gray Interior','Gray Interior', regex=True)\n",
    "big_df['int_color'] = big_df['int_color'].replace('Black Leather Seats','Black Interior', regex=True)\n",
    "big_df['int_color'] = big_df['int_color'].replace('Jet Black Leather Seats','Black Interior', regex=True)\n",
    "big_df['int_color'] = big_df['int_color'].replace('Jet Black Cloth Seat Trim','Black Interior', regex=True)\n",
    "big_df['int_color'] = big_df['int_color'].replace('Jet Black Interior','Black Interior', regex=True)\n",
    "big_df['int_color'] = big_df['int_color'].replace('Diesel Gray/Black Interior','Black Interior', regex=True)\n"
   ]
  },
  {
   "cell_type": "code",
   "execution_count": 73,
   "id": "bbda1971-8bcd-415b-9da2-d431220ccbe4",
   "metadata": {},
   "outputs": [
    {
     "data": {
      "text/html": [
       "<div>\n",
       "<style scoped>\n",
       "    .dataframe tbody tr th:only-of-type {\n",
       "        vertical-align: middle;\n",
       "    }\n",
       "\n",
       "    .dataframe tbody tr th {\n",
       "        vertical-align: top;\n",
       "    }\n",
       "\n",
       "    .dataframe thead th {\n",
       "        text-align: right;\n",
       "    }\n",
       "</style>\n",
       "<table border=\"1\" class=\"dataframe\">\n",
       "  <thead>\n",
       "    <tr style=\"text-align: right;\">\n",
       "      <th></th>\n",
       "      <th>mileage</th>\n",
       "      <th>ext_color</th>\n",
       "      <th>int_color</th>\n",
       "      <th>engine_size</th>\n",
       "      <th>cylinders</th>\n",
       "      <th>transmission</th>\n",
       "      <th>awd</th>\n",
       "      <th>price</th>\n",
       "      <th>make</th>\n",
       "      <th>age</th>\n",
       "      <th>condition</th>\n",
       "    </tr>\n",
       "  </thead>\n",
       "  <tbody>\n",
       "    <tr>\n",
       "      <th>0</th>\n",
       "      <td>105410</td>\n",
       "      <td>White Exterior</td>\n",
       "      <td>Gray Interior</td>\n",
       "      <td>5.7</td>\n",
       "      <td>8</td>\n",
       "      <td>Automatic</td>\n",
       "      <td>no</td>\n",
       "      <td>18588</td>\n",
       "      <td>RAM</td>\n",
       "      <td>8</td>\n",
       "      <td>Used</td>\n",
       "    </tr>\n",
       "    <tr>\n",
       "      <th>1</th>\n",
       "      <td>115000</td>\n",
       "      <td>White Exterior</td>\n",
       "      <td>other</td>\n",
       "      <td>5.3</td>\n",
       "      <td>8</td>\n",
       "      <td>Automatic</td>\n",
       "      <td>no</td>\n",
       "      <td>18788</td>\n",
       "      <td>Chevrolet</td>\n",
       "      <td>11</td>\n",
       "      <td>Used</td>\n",
       "    </tr>\n",
       "    <tr>\n",
       "      <th>3</th>\n",
       "      <td>128976</td>\n",
       "      <td>other</td>\n",
       "      <td>Gray Interior</td>\n",
       "      <td>5.7</td>\n",
       "      <td>8</td>\n",
       "      <td>Automatic</td>\n",
       "      <td>no</td>\n",
       "      <td>18990</td>\n",
       "      <td>Toyota</td>\n",
       "      <td>14</td>\n",
       "      <td>Used</td>\n",
       "    </tr>\n",
       "    <tr>\n",
       "      <th>4</th>\n",
       "      <td>88150</td>\n",
       "      <td>Silver Exterior</td>\n",
       "      <td>other</td>\n",
       "      <td>3.4</td>\n",
       "      <td>6</td>\n",
       "      <td>Automatic</td>\n",
       "      <td>no</td>\n",
       "      <td>18995</td>\n",
       "      <td>Toyota</td>\n",
       "      <td>20</td>\n",
       "      <td>Used</td>\n",
       "    </tr>\n",
       "    <tr>\n",
       "      <th>5</th>\n",
       "      <td>112241</td>\n",
       "      <td>White Exterior</td>\n",
       "      <td>other</td>\n",
       "      <td>2.5</td>\n",
       "      <td>4</td>\n",
       "      <td>Automatic</td>\n",
       "      <td>yes</td>\n",
       "      <td>18995</td>\n",
       "      <td>Chevrolet</td>\n",
       "      <td>6</td>\n",
       "      <td>Used</td>\n",
       "    </tr>\n",
       "    <tr>\n",
       "      <th>...</th>\n",
       "      <td>...</td>\n",
       "      <td>...</td>\n",
       "      <td>...</td>\n",
       "      <td>...</td>\n",
       "      <td>...</td>\n",
       "      <td>...</td>\n",
       "      <td>...</td>\n",
       "      <td>...</td>\n",
       "      <td>...</td>\n",
       "      <td>...</td>\n",
       "      <td>...</td>\n",
       "    </tr>\n",
       "    <tr>\n",
       "      <th>1263</th>\n",
       "      <td>13157</td>\n",
       "      <td>other</td>\n",
       "      <td>Black Interior</td>\n",
       "      <td>3.5</td>\n",
       "      <td>6</td>\n",
       "      <td>Automatic</td>\n",
       "      <td>no</td>\n",
       "      <td>43641</td>\n",
       "      <td>Toyota</td>\n",
       "      <td>2</td>\n",
       "      <td>Used</td>\n",
       "    </tr>\n",
       "    <tr>\n",
       "      <th>1264</th>\n",
       "      <td>68078</td>\n",
       "      <td>other</td>\n",
       "      <td>Gray Interior</td>\n",
       "      <td>3.5</td>\n",
       "      <td>6</td>\n",
       "      <td>Automatic</td>\n",
       "      <td>yes</td>\n",
       "      <td>43599</td>\n",
       "      <td>Ford</td>\n",
       "      <td>2</td>\n",
       "      <td>Used</td>\n",
       "    </tr>\n",
       "    <tr>\n",
       "      <th>1265</th>\n",
       "      <td>49850</td>\n",
       "      <td>Silver Ice Metallic Exterior</td>\n",
       "      <td>Black Interior</td>\n",
       "      <td>5.3</td>\n",
       "      <td>8</td>\n",
       "      <td>Automatic</td>\n",
       "      <td>no</td>\n",
       "      <td>43549</td>\n",
       "      <td>Chevrolet</td>\n",
       "      <td>3</td>\n",
       "      <td>Used</td>\n",
       "    </tr>\n",
       "    <tr>\n",
       "      <th>1266</th>\n",
       "      <td>25856</td>\n",
       "      <td>White Exterior</td>\n",
       "      <td>Gray Interior</td>\n",
       "      <td>3.5</td>\n",
       "      <td>6</td>\n",
       "      <td>Automatic</td>\n",
       "      <td>yes</td>\n",
       "      <td>43494</td>\n",
       "      <td>Toyota</td>\n",
       "      <td>2</td>\n",
       "      <td>Used</td>\n",
       "    </tr>\n",
       "    <tr>\n",
       "      <th>1267</th>\n",
       "      <td>31335</td>\n",
       "      <td>Black Exterior</td>\n",
       "      <td>Black Interior</td>\n",
       "      <td>5.3</td>\n",
       "      <td>8</td>\n",
       "      <td>Automatic</td>\n",
       "      <td>no</td>\n",
       "      <td>43289</td>\n",
       "      <td>Chevrolet</td>\n",
       "      <td>3</td>\n",
       "      <td>Certified</td>\n",
       "    </tr>\n",
       "  </tbody>\n",
       "</table>\n",
       "<p>1216 rows × 11 columns</p>\n",
       "</div>"
      ],
      "text/plain": [
       "      mileage                     ext_color       int_color  engine_size  \\\n",
       "0      105410                White Exterior   Gray Interior          5.7   \n",
       "1      115000                White Exterior           other          5.3   \n",
       "3      128976                         other   Gray Interior          5.7   \n",
       "4       88150               Silver Exterior           other          3.4   \n",
       "5      112241                White Exterior           other          2.5   \n",
       "...       ...                           ...             ...          ...   \n",
       "1263    13157                         other  Black Interior          3.5   \n",
       "1264    68078                         other   Gray Interior          3.5   \n",
       "1265    49850  Silver Ice Metallic Exterior  Black Interior          5.3   \n",
       "1266    25856                White Exterior   Gray Interior          3.5   \n",
       "1267    31335                Black Exterior  Black Interior          5.3   \n",
       "\n",
       "      cylinders transmission  awd  price       make  age  condition  \n",
       "0             8    Automatic   no  18588        RAM    8       Used  \n",
       "1             8    Automatic   no  18788  Chevrolet   11       Used  \n",
       "3             8    Automatic   no  18990     Toyota   14       Used  \n",
       "4             6    Automatic   no  18995     Toyota   20       Used  \n",
       "5             4    Automatic  yes  18995  Chevrolet    6       Used  \n",
       "...         ...          ...  ...    ...        ...  ...        ...  \n",
       "1263          6    Automatic   no  43641     Toyota    2       Used  \n",
       "1264          6    Automatic  yes  43599       Ford    2       Used  \n",
       "1265          8    Automatic   no  43549  Chevrolet    3       Used  \n",
       "1266          6    Automatic  yes  43494     Toyota    2       Used  \n",
       "1267          8    Automatic   no  43289  Chevrolet    3  Certified  \n",
       "\n",
       "[1216 rows x 11 columns]"
      ]
     },
     "execution_count": 73,
     "metadata": {},
     "output_type": "execute_result"
    }
   ],
   "source": [
    "big_df"
   ]
  },
  {
   "cell_type": "code",
   "execution_count": 92,
   "id": "22638a67-846e-47ce-9eee-4397770d00f9",
   "metadata": {},
   "outputs": [],
   "source": [
    "#model #2 code #thank you to Heather Hardway for sharing her code for model #2, i am comparing her modeling method for model #2 to other models in the MVP file\n",
    "from sklearn.linear_model import LinearRegression, Lasso, Ridge\n",
    "%matplotlib inline\n",
    "import matplotlib.pyplot as plt\n",
    "from sklearn.model_selection import cross_val_score, train_test_split, KFold, GridSearchCV\n",
    "from sklearn.metrics import r2_score, mean_absolute_error, mean_squared_error\n",
    "import seaborn as sns\n",
    "import numpy as np\n",
    "from sklearn.datasets import load_diabetes\n",
    "from sklearn.preprocessing import StandardScaler\n",
    "from sklearn.pipeline import Pipeline"
   ]
  },
  {
   "cell_type": "code",
   "execution_count": 93,
   "id": "6cc7167c-7f63-4241-abe7-f985139b2c1c",
   "metadata": {},
   "outputs": [],
   "source": [
    "X = pd.get_dummies(big_df[['mileage', 'ext_color', 'int_color', 'engine_size', 'cylinders', 'transmission', 'awd', 'make', 'age', 'condition']], drop_first=True)\n",
    "y = big_df['price']"
   ]
  },
  {
   "cell_type": "code",
   "execution_count": 94,
   "id": "2a01d3b5-10b0-4db4-988f-db720a673a0f",
   "metadata": {},
   "outputs": [],
   "source": [
    "X_train, X_test, y_train, y_test = train_test_split(X, y, test_size = 0.1, random_state = 42) #splitting original data (X,y) into test data sets and train data sets\n"
   ]
  },
  {
   "cell_type": "code",
   "execution_count": 95,
   "id": "748fb787-9c61-4ce7-bd54-92c1bb2dc41d",
   "metadata": {},
   "outputs": [],
   "source": [
    "X_train, X_val, y_train, y_val = train_test_split(X_train, y_train, test_size=0.1111111, random_state=42) #splitting train data into train data and val data sets"
   ]
  },
  {
   "cell_type": "code",
   "execution_count": 96,
   "id": "f9c0fe16-f7cf-4e96-b0ff-a632e4833586",
   "metadata": {},
   "outputs": [
    {
     "data": {
      "text/plain": [
       "0.7993421052631579"
      ]
     },
     "execution_count": 96,
     "metadata": {},
     "output_type": "execute_result"
    }
   ],
   "source": [
    "X_train.shape[0]/X.shape[0]"
   ]
  },
  {
   "cell_type": "code",
   "execution_count": 122,
   "id": "e466c263-937f-4b63-a992-6025e76be13c",
   "metadata": {},
   "outputs": [
    {
     "data": {
      "text/plain": [
       "0.10032894736842106"
      ]
     },
     "execution_count": 122,
     "metadata": {},
     "output_type": "execute_result"
    }
   ],
   "source": [
    "X_val.shape[0] / X.shape[0]"
   ]
  },
  {
   "cell_type": "code",
   "execution_count": 123,
   "id": "1fecf415-42ac-4e62-998b-53e7b3c51e2c",
   "metadata": {},
   "outputs": [
    {
     "data": {
      "text/plain": [
       "0.10032894736842106"
      ]
     },
     "execution_count": 123,
     "metadata": {},
     "output_type": "execute_result"
    }
   ],
   "source": [
    "X_test.shape[0] / X.shape[0]"
   ]
  },
  {
   "cell_type": "code",
   "execution_count": 97,
   "id": "cfaf6c25-73e2-423d-adac-af0bec2e8f9c",
   "metadata": {},
   "outputs": [
    {
     "data": {
      "text/plain": [
       "LinearRegression()"
      ]
     },
     "execution_count": 97,
     "metadata": {},
     "output_type": "execute_result"
    }
   ],
   "source": [
    "model2 = LinearRegression()   #running and fitting regression\n",
    "model2.fit(X_train, y_train)"
   ]
  },
  {
   "cell_type": "code",
   "execution_count": 98,
   "id": "ce2b460d-23b1-4252-839d-2a262ac67fb2",
   "metadata": {},
   "outputs": [
    {
     "data": {
      "text/plain": [
       "0.6617416008744288"
      ]
     },
     "execution_count": 98,
     "metadata": {},
     "output_type": "execute_result"
    }
   ],
   "source": [
    "r2_score(y_train, model2.predict(X_train)) #checking r^2 for train data"
   ]
  },
  {
   "cell_type": "code",
   "execution_count": 81,
   "id": "75713643-9a1a-4c5b-9633-6a56ea582cd7",
   "metadata": {},
   "outputs": [
    {
     "data": {
      "text/plain": [
       "0.6085983177367738"
      ]
     },
     "execution_count": 81,
     "metadata": {},
     "output_type": "execute_result"
    }
   ],
   "source": [
    "r2_score(y_val, model2.predict(X_val)) #checking r^2 for val data"
   ]
  },
  {
   "cell_type": "code",
   "execution_count": 82,
   "id": "a690db55-7385-4d1c-a368-056e416a37f8",
   "metadata": {},
   "outputs": [
    {
     "name": "stderr",
     "output_type": "stream",
     "text": [
      "/Users/erikpaulson/opt/anaconda3/lib/python3.9/site-packages/seaborn/_decorators.py:36: FutureWarning: Pass the following variables as keyword args: x, y. From version 0.12, the only valid positional argument will be `data`, and passing other arguments without an explicit keyword will result in an error or misinterpretation.\n",
      "  warnings.warn(\n"
     ]
    },
    {
     "data": {
      "text/plain": [
       "<AxesSubplot:xlabel='price'>"
      ]
     },
     "execution_count": 82,
     "metadata": {},
     "output_type": "execute_result"
    },
    {
     "data": {
      "image/png": "[encoded data removed]",
      "text/plain": [
       "<Figure size 432x288 with 1 Axes>"
      ]
     },
     "metadata": {
      "needs_background": "light"
     },
     "output_type": "display_data"
    }
   ],
   "source": [
    "import seaborn as sns\n",
    "#plot the acual results (y train) vs the predicted result(X_train)\n",
    "\n",
    "sns.regplot(y_train, model2.predict(X_train), ci=None, scatter_kws={\"color\": \"black\"}, line_kws={\"color\": \"red\"})"
   ]
  },
  {
   "cell_type": "code",
   "execution_count": 83,
   "id": "2a1098e4-6ef7-47fc-a68a-a01d356494b4",
   "metadata": {},
   "outputs": [
    {
     "data": {
      "text/html": [
       "<div>\n",
       "<style scoped>\n",
       "    .dataframe tbody tr th:only-of-type {\n",
       "        vertical-align: middle;\n",
       "    }\n",
       "\n",
       "    .dataframe tbody tr th {\n",
       "        vertical-align: top;\n",
       "    }\n",
       "\n",
       "    .dataframe thead th {\n",
       "        text-align: right;\n",
       "    }\n",
       "</style>\n",
       "<table border=\"1\" class=\"dataframe\">\n",
       "  <thead>\n",
       "    <tr style=\"text-align: right;\">\n",
       "      <th></th>\n",
       "      <th>train_r2</th>\n",
       "      <th>val_r2</th>\n",
       "      <th>test_r2</th>\n",
       "    </tr>\n",
       "  </thead>\n",
       "  <tbody>\n",
       "    <tr>\n",
       "      <th>base_model</th>\n",
       "      <td>0.661742</td>\n",
       "      <td>0.608598</td>\n",
       "      <td>0.64179</td>\n",
       "    </tr>\n",
       "  </tbody>\n",
       "</table>\n",
       "</div>"
      ],
      "text/plain": [
       "            train_r2    val_r2  test_r2\n",
       "base_model  0.661742  0.608598  0.64179"
      ]
     },
     "execution_count": 83,
     "metadata": {},
     "output_type": "execute_result"
    }
   ],
   "source": [
    "eval_scores = pd.DataFrame(columns = ['train_r2', 'val_r2', 'test_r2'])\n",
    "eval_scores.loc['base_model'] = [r2_score(y_train, model2.predict(X_train)), r2_score(y_val, model2.predict(X_val)), r2_score(y_test, model2.predict(X_test))]\n",
    "eval_scores"
   ]
  },
  {
   "cell_type": "code",
   "execution_count": null,
   "id": "1a75d8af-740e-4fe6-92f4-cb5404d44a86",
   "metadata": {},
   "outputs": [],
   "source": [
    "#end of first model on big df"
   ]
  },
  {
   "cell_type": "code",
   "execution_count": 84,
   "id": "ced03297-6a04-464a-891e-51208c215d9e",
   "metadata": {},
   "outputs": [],
   "source": [
    "alphas = np.logspace(-4, 1, 20)\n",
    "\n",
    "#For ridge/lasso, need to standardize features, this is building more models standardized by Lasso to compare to the base model \n",
    "scaler = StandardScaler().fit(X_train)\n",
    "X_train = scaler.transform(X_train)\n",
    "X_test = scaler.transform(X_test)\n",
    "X_val = scaler.transform(X_val)\n",
    "for a in alphas:\n",
    "    model = Lasso(alpha=a)\n",
    "    model.fit(X_train, y_train)\n",
    "    eval_scores.loc['lasso_'+str(a)] = [r2_score(y_train, model.predict(X_train)), r2_score(y_val, model.predict(X_val)),r2_score(y_test, model.predict(X_test))]"
   ]
  },
  {
   "cell_type": "code",
   "execution_count": null,
   "id": "56479f3d-ffd8-432c-925b-6ab8e2b7406e",
   "metadata": {},
   "outputs": [],
   "source": [
    "eval_scores"
   ]
  },
  {
   "cell_type": "code",
   "execution_count": null,
   "id": "f9fe9a01-c4c2-4e2d-8e4d-1a85622f301f",
   "metadata": {},
   "outputs": [],
   "source": [
    "#comparing this to the smaller df with a few less features the r^2 is significantly improved. test_df r^2 = .313 big_df r^2 = .662"
   ]
  },
  {
   "cell_type": "code",
   "execution_count": 86,
   "id": "84ef2265-a7aa-4ddf-acbb-d3fbe535fef1",
   "metadata": {},
   "outputs": [
    {
     "data": {
      "text/plain": [
       "(1216, 29)"
      ]
     },
     "execution_count": 86,
     "metadata": {},
     "output_type": "execute_result"
    }
   ],
   "source": [
    "X.shape #has 29 features and 1216 rows"
   ]
  },
  {
   "cell_type": "code",
   "execution_count": 100,
   "id": "6c57f89e-aeba-4403-a9af-01d924396b83",
   "metadata": {},
   "outputs": [
    {
     "data": {
      "text/plain": [
       "0.6513281257421129"
      ]
     },
     "execution_count": 100,
     "metadata": {},
     "output_type": "execute_result"
    }
   ],
   "source": [
    "#be careful to not run the scalers on the lasso before running this or else r2 will be different\n",
    "n = X_train.shape[0]\n",
    "p = X_train.shape[1]\n",
    "\n",
    "r2 = r2_score(y_train, model2.predict(X_train))\n",
    "\n",
    "\n",
    "adj_r2 = 1-(1-r2)*(n-1)/(n-p-1)\n",
    "adj_r2"
   ]
  },
  {
   "cell_type": "code",
   "execution_count": null,
   "id": "4aeb05ea-770d-4863-8e6a-acbf84ae606c",
   "metadata": {},
   "outputs": [],
   "source": [
    "#adjusted r2 for this model is .6513 compared to .2875 previously for test_df"
   ]
  },
  {
   "cell_type": "code",
   "execution_count": 101,
   "id": "bc61c5c6-bff0-4ce6-9825-e9a9a668e5b8",
   "metadata": {},
   "outputs": [
    {
     "data": {
      "text/plain": [
       "<seaborn.axisgrid.PairGrid at 0x7fbda3819c70>"
      ]
     },
     "execution_count": 101,
     "metadata": {},
     "output_type": "execute_result"
    },
    {
     "data": {
      "image/png": "[encoded data removed]",
      "text/plain": [
       "<Figure size 900x900 with 30 Axes>"
      ]
     },
     "metadata": {
      "needs_background": "light"
     },
     "output_type": "display_data"
    }
   ],
   "source": [
    "sns.pairplot(big_df)"
   ]
  },
  {
   "cell_type": "code",
   "execution_count": 111,
   "id": "de46b1b2-0d44-452f-a8be-a5f966e04553",
   "metadata": {},
   "outputs": [
    {
     "data": {
      "text/plain": [
       "array([-1.44062325e-01,  2.79899848e+02,  1.85973075e+03, -1.03558418e+03,\n",
       "       -8.33384239e+02, -1.82942381e+03,  1.81863699e+03,  2.01119236e+03,\n",
       "       -2.50089519e+03, -2.64342750e+03, -4.50893993e+03, -2.05165287e+03,\n",
       "       -8.92922956e+02, -3.60039591e+03, -1.70512479e+03, -2.16322866e+03,\n",
       "       -1.71962306e+03,  3.95221491e+03,  7.41998722e+03,  2.83028736e+03,\n",
       "        2.08763686e+02, -6.80282589e+03, -1.05977108e+04,  9.60091419e+03,\n",
       "       -6.42506208e+03,  9.18782259e+02,  1.01410741e+03, -1.12281094e+03,\n",
       "       -2.54043440e+03])"
      ]
     },
     "execution_count": 111,
     "metadata": {},
     "output_type": "execute_result"
    }
   ],
   "source": [
    "model2.coef_ #values from coefficients "
   ]
  },
  {
   "cell_type": "code",
   "execution_count": 103,
   "id": "2cf94023-4cb7-47a2-8837-6065ba0ed4a7",
   "metadata": {},
   "outputs": [
    {
     "data": {
      "text/plain": [
       "37192.62415893281"
      ]
     },
     "execution_count": 103,
     "metadata": {},
     "output_type": "execute_result"
    }
   ],
   "source": [
    "model2.intercept_"
   ]
  },
  {
   "cell_type": "code",
   "execution_count": 104,
   "id": "f2c44297-346f-4aa1-a216-beeae871f2b3",
   "metadata": {},
   "outputs": [
    {
     "data": {
      "text/plain": [
       "6925.765663052867"
      ]
     },
     "execution_count": 104,
     "metadata": {},
     "output_type": "execute_result"
    }
   ],
   "source": [
    "from sklearn.metrics import mean_squared_error\n",
    "\n",
    "mean_squared_error(y_train, model2.predict(X_train), squared=False) #average error of the linear models price prediction"
   ]
  },
  {
   "cell_type": "code",
   "execution_count": 105,
   "id": "02129b08-d5e1-459d-9af2-56aae303dbd8",
   "metadata": {},
   "outputs": [
    {
     "data": {
      "text/plain": [
       "43993.43667763158"
      ]
     },
     "execution_count": 105,
     "metadata": {},
     "output_type": "execute_result"
    }
   ],
   "source": [
    "big_df['price'].mean() #average price of a truck in big_df"
   ]
  },
  {
   "cell_type": "code",
   "execution_count": 106,
   "id": "47ec1009-c54b-4458-be73-6c4a6e8651cf",
   "metadata": {},
   "outputs": [
    {
     "data": {
      "text/plain": [
       "0.157427247927968"
      ]
     },
     "execution_count": 106,
     "metadata": {},
     "output_type": "execute_result"
    }
   ],
   "source": [
    "mean_squared_error(y_train, model2.predict(X_train), squared=False) / big_df['price'].mean()"
   ]
  },
  {
   "cell_type": "code",
   "execution_count": null,
   "id": "625ead24-6aca-4cf3-b66e-4ccfa2aedaea",
   "metadata": {},
   "outputs": [],
   "source": [
    "#even though the mean squared error rose compared to the test_df metric, the percentage error decreased.  This indicates that the new model is more accurately\n",
    "#predicting the prices"
   ]
  },
  {
   "cell_type": "code",
   "execution_count": null,
   "id": "19ac7c1e-932c-4f22-9ec9-eb5812e9fd83",
   "metadata": {},
   "outputs": [],
   "source": []
  },
  {
   "cell_type": "code",
   "execution_count": null,
   "id": "3ebb93fd-257b-4b9e-9bbd-9271e5cebefa",
   "metadata": {},
   "outputs": [],
   "source": []
  },
  {
   "cell_type": "code",
   "execution_count": null,
   "id": "dca6fca1-998c-4dc5-9dc4-3e49bf5f8e16",
   "metadata": {},
   "outputs": [],
   "source": []
  },
  {
   "cell_type": "code",
   "execution_count": 107,
   "id": "e8a887cf-c2e1-48c8-8c5d-f6c86cca359a",
   "metadata": {},
   "outputs": [
    {
     "data": {
      "text/plain": [
       "array(['mileage', 'engine_size', 'cylinders', 'age',\n",
       "       'ext_color_Black Exterior',\n",
       "       'ext_color_Bright White Clearcoat Exterior',\n",
       "       'ext_color_Diamond Black Crystal Pearlcoat Exterior',\n",
       "       'ext_color_Granite Crystal Metallic Clearcoat Exterior',\n",
       "       'ext_color_Gray Exterior', 'ext_color_Onyx Black Exterior',\n",
       "       'ext_color_Satin Steel Metallic Exterior',\n",
       "       'ext_color_Silver Exterior',\n",
       "       'ext_color_Silver Ice Metallic Exterior',\n",
       "       'ext_color_White Exterior', 'ext_color_other',\n",
       "       'int_color_Gray Interior', 'int_color_other',\n",
       "       'transmission_Manual', 'awd_yes', 'make_Ford', 'make_GMC',\n",
       "       'make_Honda', 'make_Hyundai', 'make_Jeep', 'make_Nissan',\n",
       "       'make_RAM', 'make_Toyota', 'condition_New', 'condition_Used'],\n",
       "      dtype=object)"
      ]
     },
     "execution_count": 107,
     "metadata": {},
     "output_type": "execute_result"
    }
   ],
   "source": [
    "X.columns.values"
   ]
  },
  {
   "cell_type": "code",
   "execution_count": 118,
   "id": "ec589dbe-ddbe-44ef-a963-6a8dae24720d",
   "metadata": {},
   "outputs": [
    {
     "data": {
      "text/html": [
       "<div>\n",
       "<style scoped>\n",
       "    .dataframe tbody tr th:only-of-type {\n",
       "        vertical-align: middle;\n",
       "    }\n",
       "\n",
       "    .dataframe tbody tr th {\n",
       "        vertical-align: top;\n",
       "    }\n",
       "\n",
       "    .dataframe thead th {\n",
       "        text-align: right;\n",
       "    }\n",
       "</style>\n",
       "<table border=\"1\" class=\"dataframe\">\n",
       "  <thead>\n",
       "    <tr style=\"text-align: right;\">\n",
       "      <th></th>\n",
       "      <th>0</th>\n",
       "      <th>coefficient</th>\n",
       "      <th>intercept</th>\n",
       "    </tr>\n",
       "  </thead>\n",
       "  <tbody>\n",
       "    <tr>\n",
       "      <th>0</th>\n",
       "      <td>-0.144062</td>\n",
       "      <td>mileage</td>\n",
       "      <td>37192.624159</td>\n",
       "    </tr>\n",
       "    <tr>\n",
       "      <th>1</th>\n",
       "      <td>279.899848</td>\n",
       "      <td>engine_size</td>\n",
       "      <td>37192.624159</td>\n",
       "    </tr>\n",
       "    <tr>\n",
       "      <th>2</th>\n",
       "      <td>1859.730746</td>\n",
       "      <td>cylinders</td>\n",
       "      <td>37192.624159</td>\n",
       "    </tr>\n",
       "    <tr>\n",
       "      <th>3</th>\n",
       "      <td>-1035.584180</td>\n",
       "      <td>age</td>\n",
       "      <td>37192.624159</td>\n",
       "    </tr>\n",
       "    <tr>\n",
       "      <th>4</th>\n",
       "      <td>-833.384239</td>\n",
       "      <td>ext_color_Black Exterior</td>\n",
       "      <td>37192.624159</td>\n",
       "    </tr>\n",
       "    <tr>\n",
       "      <th>5</th>\n",
       "      <td>-1829.423808</td>\n",
       "      <td>ext_color_Bright White Clearcoat Exterior</td>\n",
       "      <td>37192.624159</td>\n",
       "    </tr>\n",
       "    <tr>\n",
       "      <th>6</th>\n",
       "      <td>1818.636989</td>\n",
       "      <td>ext_color_Diamond Black Crystal Pearlcoat Exte...</td>\n",
       "      <td>37192.624159</td>\n",
       "    </tr>\n",
       "    <tr>\n",
       "      <th>7</th>\n",
       "      <td>2011.192358</td>\n",
       "      <td>ext_color_Granite Crystal Metallic Clearcoat E...</td>\n",
       "      <td>37192.624159</td>\n",
       "    </tr>\n",
       "    <tr>\n",
       "      <th>8</th>\n",
       "      <td>-2500.895190</td>\n",
       "      <td>ext_color_Gray Exterior</td>\n",
       "      <td>37192.624159</td>\n",
       "    </tr>\n",
       "    <tr>\n",
       "      <th>9</th>\n",
       "      <td>-2643.427497</td>\n",
       "      <td>ext_color_Onyx Black Exterior</td>\n",
       "      <td>37192.624159</td>\n",
       "    </tr>\n",
       "    <tr>\n",
       "      <th>10</th>\n",
       "      <td>-4508.939932</td>\n",
       "      <td>ext_color_Satin Steel Metallic Exterior</td>\n",
       "      <td>37192.624159</td>\n",
       "    </tr>\n",
       "    <tr>\n",
       "      <th>11</th>\n",
       "      <td>-2051.652874</td>\n",
       "      <td>ext_color_Silver Exterior</td>\n",
       "      <td>37192.624159</td>\n",
       "    </tr>\n",
       "    <tr>\n",
       "      <th>12</th>\n",
       "      <td>-892.922956</td>\n",
       "      <td>ext_color_Silver Ice Metallic Exterior</td>\n",
       "      <td>37192.624159</td>\n",
       "    </tr>\n",
       "    <tr>\n",
       "      <th>13</th>\n",
       "      <td>-3600.395907</td>\n",
       "      <td>ext_color_White Exterior</td>\n",
       "      <td>37192.624159</td>\n",
       "    </tr>\n",
       "    <tr>\n",
       "      <th>14</th>\n",
       "      <td>-1705.124790</td>\n",
       "      <td>ext_color_other</td>\n",
       "      <td>37192.624159</td>\n",
       "    </tr>\n",
       "    <tr>\n",
       "      <th>15</th>\n",
       "      <td>-2163.228659</td>\n",
       "      <td>int_color_Gray Interior</td>\n",
       "      <td>37192.624159</td>\n",
       "    </tr>\n",
       "    <tr>\n",
       "      <th>16</th>\n",
       "      <td>-1719.623056</td>\n",
       "      <td>int_color_other</td>\n",
       "      <td>37192.624159</td>\n",
       "    </tr>\n",
       "    <tr>\n",
       "      <th>17</th>\n",
       "      <td>3952.214906</td>\n",
       "      <td>transmission_Manual</td>\n",
       "      <td>37192.624159</td>\n",
       "    </tr>\n",
       "    <tr>\n",
       "      <th>18</th>\n",
       "      <td>7419.987218</td>\n",
       "      <td>awd_yes</td>\n",
       "      <td>37192.624159</td>\n",
       "    </tr>\n",
       "    <tr>\n",
       "      <th>19</th>\n",
       "      <td>2830.287360</td>\n",
       "      <td>make_Ford</td>\n",
       "      <td>37192.624159</td>\n",
       "    </tr>\n",
       "    <tr>\n",
       "      <th>20</th>\n",
       "      <td>208.763686</td>\n",
       "      <td>make_GMC</td>\n",
       "      <td>37192.624159</td>\n",
       "    </tr>\n",
       "    <tr>\n",
       "      <th>21</th>\n",
       "      <td>-6802.825887</td>\n",
       "      <td>make_Honda</td>\n",
       "      <td>37192.624159</td>\n",
       "    </tr>\n",
       "    <tr>\n",
       "      <th>22</th>\n",
       "      <td>-10597.710799</td>\n",
       "      <td>make_Hyundai</td>\n",
       "      <td>37192.624159</td>\n",
       "    </tr>\n",
       "    <tr>\n",
       "      <th>23</th>\n",
       "      <td>9600.914186</td>\n",
       "      <td>make_Jeep</td>\n",
       "      <td>37192.624159</td>\n",
       "    </tr>\n",
       "    <tr>\n",
       "      <th>24</th>\n",
       "      <td>-6425.062085</td>\n",
       "      <td>make_Nissan</td>\n",
       "      <td>37192.624159</td>\n",
       "    </tr>\n",
       "    <tr>\n",
       "      <th>25</th>\n",
       "      <td>918.782259</td>\n",
       "      <td>make_RAM</td>\n",
       "      <td>37192.624159</td>\n",
       "    </tr>\n",
       "    <tr>\n",
       "      <th>26</th>\n",
       "      <td>1014.107411</td>\n",
       "      <td>make_Toyota</td>\n",
       "      <td>37192.624159</td>\n",
       "    </tr>\n",
       "    <tr>\n",
       "      <th>27</th>\n",
       "      <td>-1122.810937</td>\n",
       "      <td>condition_New</td>\n",
       "      <td>37192.624159</td>\n",
       "    </tr>\n",
       "    <tr>\n",
       "      <th>28</th>\n",
       "      <td>-2540.434404</td>\n",
       "      <td>condition_Used</td>\n",
       "      <td>37192.624159</td>\n",
       "    </tr>\n",
       "  </tbody>\n",
       "</table>\n",
       "</div>"
      ],
      "text/plain": [
       "               0                                        coefficient  \\\n",
       "0      -0.144062                                            mileage   \n",
       "1     279.899848                                        engine_size   \n",
       "2    1859.730746                                          cylinders   \n",
       "3   -1035.584180                                                age   \n",
       "4    -833.384239                           ext_color_Black Exterior   \n",
       "5   -1829.423808          ext_color_Bright White Clearcoat Exterior   \n",
       "6    1818.636989  ext_color_Diamond Black Crystal Pearlcoat Exte...   \n",
       "7    2011.192358  ext_color_Granite Crystal Metallic Clearcoat E...   \n",
       "8   -2500.895190                            ext_color_Gray Exterior   \n",
       "9   -2643.427497                      ext_color_Onyx Black Exterior   \n",
       "10  -4508.939932            ext_color_Satin Steel Metallic Exterior   \n",
       "11  -2051.652874                          ext_color_Silver Exterior   \n",
       "12   -892.922956             ext_color_Silver Ice Metallic Exterior   \n",
       "13  -3600.395907                           ext_color_White Exterior   \n",
       "14  -1705.124790                                    ext_color_other   \n",
       "15  -2163.228659                            int_color_Gray Interior   \n",
       "16  -1719.623056                                    int_color_other   \n",
       "17   3952.214906                                transmission_Manual   \n",
       "18   7419.987218                                            awd_yes   \n",
       "19   2830.287360                                          make_Ford   \n",
       "20    208.763686                                           make_GMC   \n",
       "21  -6802.825887                                         make_Honda   \n",
       "22 -10597.710799                                       make_Hyundai   \n",
       "23   9600.914186                                          make_Jeep   \n",
       "24  -6425.062085                                        make_Nissan   \n",
       "25    918.782259                                           make_RAM   \n",
       "26   1014.107411                                        make_Toyota   \n",
       "27  -1122.810937                                      condition_New   \n",
       "28  -2540.434404                                     condition_Used   \n",
       "\n",
       "       intercept  \n",
       "0   37192.624159  \n",
       "1   37192.624159  \n",
       "2   37192.624159  \n",
       "3   37192.624159  \n",
       "4   37192.624159  \n",
       "5   37192.624159  \n",
       "6   37192.624159  \n",
       "7   37192.624159  \n",
       "8   37192.624159  \n",
       "9   37192.624159  \n",
       "10  37192.624159  \n",
       "11  37192.624159  \n",
       "12  37192.624159  \n",
       "13  37192.624159  \n",
       "14  37192.624159  \n",
       "15  37192.624159  \n",
       "16  37192.624159  \n",
       "17  37192.624159  \n",
       "18  37192.624159  \n",
       "19  37192.624159  \n",
       "20  37192.624159  \n",
       "21  37192.624159  \n",
       "22  37192.624159  \n",
       "23  37192.624159  \n",
       "24  37192.624159  \n",
       "25  37192.624159  \n",
       "26  37192.624159  \n",
       "27  37192.624159  \n",
       "28  37192.624159  "
      ]
     },
     "execution_count": 118,
     "metadata": {},
     "output_type": "execute_result"
    }
   ],
   "source": [
    "#how each feature affects the cars price\n",
    "feature_impacts = pd.DataFrame(data=model2.coef_)\n",
    "feature_impacts['coefficient'] = X.columns.values\n",
    "feature_impacts['intercept'] = model2.intercept_\n",
    "feature_impacts"
   ]
  },
  {
   "cell_type": "markdown",
   "id": "3bd7248b-1fc8-497a-a480-0d3ff1fbb86a",
   "metadata": {},
   "source": [
    "some takeaways from the coeff values is that:\n",
    "    (num) new cars are valued 1418 higher than used cars \n",
    "    (cat) jeep>ford>toyota>RAM>Nissan>Honda>Hyundai in terms of price\n",
    "    (cat) awd adds 7420 to truck (significant)\n",
    "    (num) as age increases value goes down by 1036\n",
    "    (num) for every mile added, value decreases by 0.144\n",
    "    (num) a larger engine in cylinders or liters increases value by (1860 per cylinder) or (280 per liter)\n",
    "    "
   ]
  },
  {
   "cell_type": "code",
   "execution_count": 119,
   "id": "252fb203-82d5-4055-aab2-61372fec58ba",
   "metadata": {},
   "outputs": [
    {
     "data": {
      "text/plain": [
       "(1216, 11)"
      ]
     },
     "execution_count": 119,
     "metadata": {},
     "output_type": "execute_result"
    }
   ],
   "source": [
    "big_df.shape"
   ]
  },
  {
   "cell_type": "code",
   "execution_count": 124,
   "id": "ea9aa965-b247-4c11-b30a-587057af16df",
   "metadata": {},
   "outputs": [
    {
     "data": {
      "text/html": [
       "<div>\n",
       "<style scoped>\n",
       "    .dataframe tbody tr th:only-of-type {\n",
       "        vertical-align: middle;\n",
       "    }\n",
       "\n",
       "    .dataframe tbody tr th {\n",
       "        vertical-align: top;\n",
       "    }\n",
       "\n",
       "    .dataframe thead th {\n",
       "        text-align: right;\n",
       "    }\n",
       "</style>\n",
       "<table border=\"1\" class=\"dataframe\">\n",
       "  <thead>\n",
       "    <tr style=\"text-align: right;\">\n",
       "      <th></th>\n",
       "      <th>mileage</th>\n",
       "      <th>ext_color</th>\n",
       "      <th>int_color</th>\n",
       "      <th>engine_size</th>\n",
       "      <th>cylinders</th>\n",
       "      <th>transmission</th>\n",
       "      <th>awd</th>\n",
       "      <th>price</th>\n",
       "      <th>make</th>\n",
       "      <th>age</th>\n",
       "      <th>condition</th>\n",
       "    </tr>\n",
       "  </thead>\n",
       "  <tbody>\n",
       "    <tr>\n",
       "      <th>0</th>\n",
       "      <td>105410</td>\n",
       "      <td>White Exterior</td>\n",
       "      <td>Gray Interior</td>\n",
       "      <td>5.7</td>\n",
       "      <td>8</td>\n",
       "      <td>Automatic</td>\n",
       "      <td>no</td>\n",
       "      <td>18588</td>\n",
       "      <td>RAM</td>\n",
       "      <td>8</td>\n",
       "      <td>Used</td>\n",
       "    </tr>\n",
       "    <tr>\n",
       "      <th>1</th>\n",
       "      <td>115000</td>\n",
       "      <td>White Exterior</td>\n",
       "      <td>other</td>\n",
       "      <td>5.3</td>\n",
       "      <td>8</td>\n",
       "      <td>Automatic</td>\n",
       "      <td>no</td>\n",
       "      <td>18788</td>\n",
       "      <td>Chevrolet</td>\n",
       "      <td>11</td>\n",
       "      <td>Used</td>\n",
       "    </tr>\n",
       "    <tr>\n",
       "      <th>3</th>\n",
       "      <td>128976</td>\n",
       "      <td>other</td>\n",
       "      <td>Gray Interior</td>\n",
       "      <td>5.7</td>\n",
       "      <td>8</td>\n",
       "      <td>Automatic</td>\n",
       "      <td>no</td>\n",
       "      <td>18990</td>\n",
       "      <td>Toyota</td>\n",
       "      <td>14</td>\n",
       "      <td>Used</td>\n",
       "    </tr>\n",
       "    <tr>\n",
       "      <th>4</th>\n",
       "      <td>88150</td>\n",
       "      <td>Silver Exterior</td>\n",
       "      <td>other</td>\n",
       "      <td>3.4</td>\n",
       "      <td>6</td>\n",
       "      <td>Automatic</td>\n",
       "      <td>no</td>\n",
       "      <td>18995</td>\n",
       "      <td>Toyota</td>\n",
       "      <td>20</td>\n",
       "      <td>Used</td>\n",
       "    </tr>\n",
       "    <tr>\n",
       "      <th>5</th>\n",
       "      <td>112241</td>\n",
       "      <td>White Exterior</td>\n",
       "      <td>other</td>\n",
       "      <td>2.5</td>\n",
       "      <td>4</td>\n",
       "      <td>Automatic</td>\n",
       "      <td>yes</td>\n",
       "      <td>18995</td>\n",
       "      <td>Chevrolet</td>\n",
       "      <td>6</td>\n",
       "      <td>Used</td>\n",
       "    </tr>\n",
       "    <tr>\n",
       "      <th>...</th>\n",
       "      <td>...</td>\n",
       "      <td>...</td>\n",
       "      <td>...</td>\n",
       "      <td>...</td>\n",
       "      <td>...</td>\n",
       "      <td>...</td>\n",
       "      <td>...</td>\n",
       "      <td>...</td>\n",
       "      <td>...</td>\n",
       "      <td>...</td>\n",
       "      <td>...</td>\n",
       "    </tr>\n",
       "    <tr>\n",
       "      <th>1263</th>\n",
       "      <td>13157</td>\n",
       "      <td>other</td>\n",
       "      <td>Black Interior</td>\n",
       "      <td>3.5</td>\n",
       "      <td>6</td>\n",
       "      <td>Automatic</td>\n",
       "      <td>no</td>\n",
       "      <td>43641</td>\n",
       "      <td>Toyota</td>\n",
       "      <td>2</td>\n",
       "      <td>Used</td>\n",
       "    </tr>\n",
       "    <tr>\n",
       "      <th>1264</th>\n",
       "      <td>68078</td>\n",
       "      <td>other</td>\n",
       "      <td>Gray Interior</td>\n",
       "      <td>3.5</td>\n",
       "      <td>6</td>\n",
       "      <td>Automatic</td>\n",
       "      <td>yes</td>\n",
       "      <td>43599</td>\n",
       "      <td>Ford</td>\n",
       "      <td>2</td>\n",
       "      <td>Used</td>\n",
       "    </tr>\n",
       "    <tr>\n",
       "      <th>1265</th>\n",
       "      <td>49850</td>\n",
       "      <td>Silver Ice Metallic Exterior</td>\n",
       "      <td>Black Interior</td>\n",
       "      <td>5.3</td>\n",
       "      <td>8</td>\n",
       "      <td>Automatic</td>\n",
       "      <td>no</td>\n",
       "      <td>43549</td>\n",
       "      <td>Chevrolet</td>\n",
       "      <td>3</td>\n",
       "      <td>Used</td>\n",
       "    </tr>\n",
       "    <tr>\n",
       "      <th>1266</th>\n",
       "      <td>25856</td>\n",
       "      <td>White Exterior</td>\n",
       "      <td>Gray Interior</td>\n",
       "      <td>3.5</td>\n",
       "      <td>6</td>\n",
       "      <td>Automatic</td>\n",
       "      <td>yes</td>\n",
       "      <td>43494</td>\n",
       "      <td>Toyota</td>\n",
       "      <td>2</td>\n",
       "      <td>Used</td>\n",
       "    </tr>\n",
       "    <tr>\n",
       "      <th>1267</th>\n",
       "      <td>31335</td>\n",
       "      <td>Black Exterior</td>\n",
       "      <td>Black Interior</td>\n",
       "      <td>5.3</td>\n",
       "      <td>8</td>\n",
       "      <td>Automatic</td>\n",
       "      <td>no</td>\n",
       "      <td>43289</td>\n",
       "      <td>Chevrolet</td>\n",
       "      <td>3</td>\n",
       "      <td>Certified</td>\n",
       "    </tr>\n",
       "  </tbody>\n",
       "</table>\n",
       "<p>1216 rows × 11 columns</p>\n",
       "</div>"
      ],
      "text/plain": [
       "      mileage                     ext_color       int_color  engine_size  \\\n",
       "0      105410                White Exterior   Gray Interior          5.7   \n",
       "1      115000                White Exterior           other          5.3   \n",
       "3      128976                         other   Gray Interior          5.7   \n",
       "4       88150               Silver Exterior           other          3.4   \n",
       "5      112241                White Exterior           other          2.5   \n",
       "...       ...                           ...             ...          ...   \n",
       "1263    13157                         other  Black Interior          3.5   \n",
       "1264    68078                         other   Gray Interior          3.5   \n",
       "1265    49850  Silver Ice Metallic Exterior  Black Interior          5.3   \n",
       "1266    25856                White Exterior   Gray Interior          3.5   \n",
       "1267    31335                Black Exterior  Black Interior          5.3   \n",
       "\n",
       "      cylinders transmission  awd  price       make  age  condition  \n",
       "0             8    Automatic   no  18588        RAM    8       Used  \n",
       "1             8    Automatic   no  18788  Chevrolet   11       Used  \n",
       "3             8    Automatic   no  18990     Toyota   14       Used  \n",
       "4             6    Automatic   no  18995     Toyota   20       Used  \n",
       "5             4    Automatic  yes  18995  Chevrolet    6       Used  \n",
       "...         ...          ...  ...    ...        ...  ...        ...  \n",
       "1263          6    Automatic   no  43641     Toyota    2       Used  \n",
       "1264          6    Automatic  yes  43599       Ford    2       Used  \n",
       "1265          8    Automatic   no  43549  Chevrolet    3       Used  \n",
       "1266          6    Automatic  yes  43494     Toyota    2       Used  \n",
       "1267          8    Automatic   no  43289  Chevrolet    3  Certified  \n",
       "\n",
       "[1216 rows x 11 columns]"
      ]
     },
     "execution_count": 124,
     "metadata": {},
     "output_type": "execute_result"
    }
   ],
   "source": [
    "big_df"
   ]
  },
  {
   "cell_type": "code",
   "execution_count": null,
   "id": "4099acc1-d8d7-49e2-b232-d6d87026e4f1",
   "metadata": {},
   "outputs": [],
   "source": []
  },
  {
   "cell_type": "code",
   "execution_count": null,
   "id": "647b7637-d153-4100-aa16-d58556c3ba9e",
   "metadata": {},
   "outputs": [],
   "source": []
  }
 ],
 "metadata": {
  "kernelspec": {
   "display_name": "Python 3 (ipykernel)",
   "language": "python",
   "name": "python3"
  },
  "language_info": {
   "codemirror_mode": {
    "name": "ipython",
    "version": 3
   },
   "file_extension": ".py",
   "mimetype": "text/x-python",
   "name": "python",
   "nbconvert_exporter": "python",
   "pygments_lexer": "ipython3",
   "version": "3.9.7"
  }
 },
 "nbformat": 4,
 "nbformat_minor": 5
}
